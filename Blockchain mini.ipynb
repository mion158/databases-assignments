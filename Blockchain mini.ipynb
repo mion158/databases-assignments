{
 "cells": [
  {
   "cell_type": "code",
   "execution_count": 1,
   "id": "8040ba29",
   "metadata": {},
   "outputs": [],
   "source": [
    "import datetime\n",
    "from hashlib import sha256\n",
    "\n",
    "class Block:\n",
    "    def __init__(self, transactions, previous_hash):\n",
    "        self.time_stamp = datetime.datetime.now()\n",
    "        self.transactions = transactions\n",
    "        self.previous_hash = previous_hash\n",
    "        self.nonce = 0\n",
    "        self.hash = self.generate_hash()\n",
    "\n",
    "    def generate_hash(self):\n",
    "        block_header = str(self.time_stamp) + str(self.transactions) +str(self.previous_hash) + str(self.nonce)\n",
    "        block_hash = sha256(block_header.encode())\n",
    "        return block_hash.hexdigest()\n",
    "\n",
    "    def print_contents(self):\n",
    "        print(\"timestamp:\", self.time_stamp)\n",
    "        print(\"transactions:\", self.transactions)\n",
    "        print(\"current hash:\", self.generate_hash())\n",
    "        print(\"previous hash:\", self.previous_hash) "
   ]
  },
  {
   "cell_type": "code",
   "execution_count": 3,
   "id": "c110b1eb",
   "metadata": {},
   "outputs": [],
   "source": [
    "class Blockchain:\n",
    "    def __init__(self):\n",
    "        self.chain = []\n",
    "        self.unconfirmed_transactions = []\n",
    "        self.genesis_block()\n",
    "\n",
    "    def genesis_block(self):\n",
    "        transactions = []\n",
    "        genesis_block = Block(transactions, \"0\")\n",
    "        genesis_block.generate_hash()\n",
    "        self.chain.append(genesis_block)\n",
    "\n",
    "    def add_block(self, transactions):\n",
    "        previous_hash = (self.chain[len(self.chain)-1]).hash\n",
    "        new_block = Block(transactions, previous_hash)\n",
    "        new_block.generate_hash()\n",
    "        self.chain.append(new_block)\n",
    "\n",
    "    def print_blocks(self):\n",
    "        for i in range(len(self.chain)):\n",
    "            current_block = self.chain[i]\n",
    "            print(\"Block {} {}\".format(i, current_block))\n",
    "            current_block.print_contents()\n",
    "\n",
    "    def validate_chain(self):\n",
    "        for i in range(1, len(self.chain)):\n",
    "            current = self.chain[i]\n",
    "            previous = self.chain[i-1]\n",
    "            if(current.hash != current.generate_hash()):\n",
    "                print(\"Current hash does not equal generated hash\")\n",
    "                return False\n",
    "            if(current.previous_hash != previous.generate_hash()):\n",
    "                print(\"Previous block's hash got changed\")\n",
    "                return False\n",
    "        return True\n",
    " \n",
    "    def proof_of_work(self, block, difficulty=2):\n",
    "        proof = block.generate_hash()\n",
    "        while proof[:2] != \"0\"*difficulty:\n",
    "            block.nonce += 1\n",
    "            proof = block.generate_hash()\n",
    "        block.nonce = 0\n",
    "        return proof\n",
    "      "
   ]
  },
  {
   "cell_type": "code",
   "execution_count": 5,
   "id": "288f54f6",
   "metadata": {},
   "outputs": [
    {
     "name": "stdout",
     "output_type": "stream",
     "text": [
      "Block 0 <__main__.Block object at 0x00000228A1AF7040>\n",
      "timestamp: 2022-08-23 22:55:58.723248\n",
      "transactions: []\n",
      "current hash: df71acfea94f5843b09ee7f474aed081d65272fd42b2b6e2468a99634d3b616e\n",
      "previous hash: 0\n",
      "Block 0 <__main__.Block object at 0x00000228A1AF7040>\n",
      "timestamp: 2022-08-23 22:55:58.723248\n",
      "transactions: []\n",
      "current hash: df71acfea94f5843b09ee7f474aed081d65272fd42b2b6e2468a99634d3b616e\n",
      "previous hash: 0\n",
      "Block 1 <__main__.Block object at 0x00000228A1B9A910>\n",
      "timestamp: 2022-08-23 22:55:58.723248\n",
      "transactions: {'sender': 'Alice', 'receiver': 'Bob', 'amount': '50'}\n",
      "current hash: 2e218c38caa69792053eeef5f99d02a49dd90573aca9abc1688290c316b38b0d\n",
      "previous hash: df71acfea94f5843b09ee7f474aed081d65272fd42b2b6e2468a99634d3b616e\n",
      "Block 2 <__main__.Block object at 0x00000228A1AEF700>\n",
      "timestamp: 2022-08-23 22:55:58.723248\n",
      "transactions: {'sender': 'Bob', 'receiver': 'Cole', 'amount': '25'}\n",
      "current hash: b9647a9807bd641f86bbe9b0059a19129b78adb28266b6f5f6e971013d2a1a58\n",
      "previous hash: 2e218c38caa69792053eeef5f99d02a49dd90573aca9abc1688290c316b38b0d\n",
      "Block 3 <__main__.Block object at 0x00000228A1CE9970>\n",
      "timestamp: 2022-08-23 22:55:58.723248\n",
      "transactions: {'sender': 'Alice', 'receiver': 'Cole', 'amount': '35'}\n",
      "current hash: 549c9e140fec2c8e1ed03278cb3fa84eae3a093bc8ffd31f77e051d8960b3a5c\n",
      "previous hash: b9647a9807bd641f86bbe9b0059a19129b78adb28266b6f5f6e971013d2a1a58\n",
      "Current hash does not equal generated hash\n"
     ]
    },
    {
     "data": {
      "text/plain": [
       "False"
      ]
     },
     "execution_count": 5,
     "metadata": {},
     "output_type": "execute_result"
    }
   ],
   "source": [
    "block_one_transactions = {\"sender\":\"Alice\", \"receiver\": \"Bob\", \"amount\":\"50\"}\n",
    "block_two_transactions = {\"sender\": \"Bob\", \"receiver\":\"Cole\", \"amount\":\"25\"}\n",
    "block_three_transactions = {\"sender\":\"Alice\", \"receiver\":\"Cole\", \"amount\":\"35\"}\n",
    "fake_transactions = {\"sender\": \"Bob\", \"receiver\":\"Cole, Alice\", \"amount\":\"25\"}\n",
    "\n",
    "local_blockchain = Blockchain()\n",
    "local_blockchain.print_blocks()\n",
    "local_blockchain.add_block(block_one_transactions)\n",
    "local_blockchain.add_block(block_two_transactions)\n",
    "local_blockchain.add_block(block_three_transactions)\n",
    "local_blockchain.print_blocks()\n",
    "\n",
    "local_blockchain.chain[2].transactions = fake_transactions\n",
    "local_blockchain.validate_chain()"
   ]
  },
  {
   "cell_type": "code",
   "execution_count": null,
   "id": "f107ccf5",
   "metadata": {},
   "outputs": [],
   "source": []
  }
 ],
 "metadata": {
  "kernelspec": {
   "display_name": "Python 3 (ipykernel)",
   "language": "python",
   "name": "python3"
  },
  "language_info": {
   "codemirror_mode": {
    "name": "ipython",
    "version": 3
   },
   "file_extension": ".py",
   "mimetype": "text/x-python",
   "name": "python",
   "nbconvert_exporter": "python",
   "pygments_lexer": "ipython3",
   "version": "3.9.12"
  }
 },
 "nbformat": 4,
 "nbformat_minor": 5
}
