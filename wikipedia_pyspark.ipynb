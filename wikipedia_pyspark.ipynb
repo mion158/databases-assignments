{
 "cells": [
  {
   "cell_type": "code",
   "execution_count": 1,
   "id": "12cc1f8c",
   "metadata": {},
   "outputs": [],
   "source": [
    "from pyspark.sql import SparkSession\n",
    "\n",
    "# Create a new SparkSession\n",
    "spark = SparkSession\\\n",
    "    .builder\\\n",
    "    .config('spark.app.name', 'learning_spark_sql')\\\n",
    "    .getOrCreate()\n",
    "\n",
    "# Read in Wikipedia Unique Visitors Dataset\n",
    "wiki_uniq_df = spark.read.option('header', True).option('delimiter', ',').option('inferSchema', True).csv(\"wiki_uniq_march_2022_w_site_type.csv\")"
   ]
  },
  {
   "cell_type": "code",
   "execution_count": 2,
   "id": "a7a18fd0",
   "metadata": {},
   "outputs": [
    {
     "name": "stdout",
     "output_type": "stream",
     "text": [
      "+------------------+-------------------+-----------------+-------------------+-------------+---------+\n",
      "|domain            |uniq_human_visitors|uniq_bot_visitors|total_visitor_count|language_code|site_type|\n",
      "+------------------+-------------------+-----------------+-------------------+-------------+---------+\n",
      "|en.m.wikipedia.org|33261399           |8400247          |41661646           |en           |wikipedia|\n",
      "|en.wikipedia.org  |17009339           |4851741          |21861080           |en           |wikipedia|\n",
      "|es.m.wikipedia.org|5668575            |1977289          |7645864            |es           |wikipedia|\n",
      "|ru.m.wikipedia.org|5816762            |1367179          |7183941            |ru           |wikipedia|\n",
      "|ja.m.wikipedia.org|5396108            |1325212          |6721320            |ja           |wikipedia|\n",
      "+------------------+-------------------+-----------------+-------------------+-------------+---------+\n",
      "only showing top 5 rows\n",
      "\n"
     ]
    }
   ],
   "source": [
    "wiki_uniq_df.show(5, truncate=False)"
   ]
  },
  {
   "cell_type": "code",
   "execution_count": 3,
   "id": "08bcf754",
   "metadata": {},
   "outputs": [
    {
     "name": "stdout",
     "output_type": "stream",
     "text": [
      "root\n",
      " |-- domain: string (nullable = true)\n",
      " |-- uniq_human_visitors: integer (nullable = true)\n",
      " |-- uniq_bot_visitors: integer (nullable = true)\n",
      " |-- total_visitor_count: integer (nullable = true)\n",
      " |-- language_code: string (nullable = true)\n",
      " |-- site_type: string (nullable = true)\n",
      "\n"
     ]
    }
   ],
   "source": [
    "wiki_uniq_df.printSchema()"
   ]
  },
  {
   "cell_type": "code",
   "execution_count": 4,
   "id": "49e848a9",
   "metadata": {},
   "outputs": [
    {
     "name": "stdout",
     "output_type": "stream",
     "text": [
      "+-------+----------------+-------------------+-----------------+-------------------+-------------+----------+\n",
      "|summary|domain          |uniq_human_visitors|uniq_bot_visitors|total_visitor_count|language_code|site_type |\n",
      "+-------+----------------+-------------------+-----------------+-------------------+-------------+----------+\n",
      "|count  |760             |760                |760              |760                |760          |760       |\n",
      "|mean   |null            |155413.0394736842  |51431.0552631579 |206844.09473684212 |null         |null      |\n",
      "|stddev |null            |1435327.5409314982 |376318.441663093 |1809320.9789242456 |null         |null      |\n",
      "|min    |aa.wikibooks.org|0                  |170              |1005               |aa           |wiki      |\n",
      "|max    |zu.wikipedia.org|33261399           |8400247          |41661646           |zu           |wiktionary|\n",
      "+-------+----------------+-------------------+-----------------+-------------------+-------------+----------+\n",
      "\n"
     ]
    }
   ],
   "source": [
    "desc = wiki_uniq_df.describe()\n",
    "desc.show(truncate = False)"
   ]
  },
  {
   "cell_type": "code",
   "execution_count": 5,
   "id": "c3f0ec55",
   "metadata": {},
   "outputs": [],
   "source": [
    "#drop site_type column because they are all wikipedia\n",
    "wiki_uniq_df = wiki_uniq_df.drop('site_type')"
   ]
  },
  {
   "cell_type": "code",
   "execution_count": 7,
   "id": "73b18936",
   "metadata": {},
   "outputs": [],
   "source": [
    "#change domain column name to domain_name\n",
    "wiki_uniq_df = wiki_uniq_df.withColumnRenamed('domain','domain_name')"
   ]
  },
  {
   "cell_type": "code",
   "execution_count": 8,
   "id": "c45a2f3d",
   "metadata": {},
   "outputs": [
    {
     "name": "stdout",
     "output_type": "stream",
     "text": [
      "+--------------------+-------------------+-----------------+-------------------+-------------+\n",
      "|domain_name         |uniq_human_visitors|uniq_bot_visitors|total_visitor_count|language_code|\n",
      "+--------------------+-------------------+-----------------+-------------------+-------------+\n",
      "|en.m.wikipedia.org  |33261399           |8400247          |41661646           |en           |\n",
      "|en.wikipedia.org    |17009339           |4851741          |21861080           |en           |\n",
      "|en.m.wiktionary.org |146792             |190145           |336937             |en           |\n",
      "|en.wiktionary.org   |123043             |184577           |307620             |en           |\n",
      "|en.wikibooks.org    |11221              |102602           |113823             |en           |\n",
      "|en.m.wikibooks.org  |7758               |18442            |26200              |en           |\n",
      "|en.wikiquote.org    |3959               |21852            |25811              |en           |\n",
      "|en.wikisource.org   |5790               |16002            |21792              |en           |\n",
      "|en.m.wikisource.org |9908               |6533             |16441              |en           |\n",
      "|en.wikivoyage.org   |2624               |12840            |15464              |en           |\n",
      "|en.wikiversity.org  |2088               |11780            |13868              |en           |\n",
      "|en.m.wikiquote.org  |4841               |8092             |12933              |en           |\n",
      "|en.m.wikivoyage.org |3362               |5072             |8434               |en           |\n",
      "|en.m.wikiversity.org|2249               |5368             |7617               |en           |\n",
      "|en.wikinews.org     |695                |4426             |5121               |en           |\n",
      "|en.m.wikinews.org   |1043               |609              |1652               |en           |\n",
      "+--------------------+-------------------+-----------------+-------------------+-------------+\n",
      "\n"
     ]
    }
   ],
   "source": [
    "#see only english page\n",
    "wiki_uniq_df.filter(wiki_uniq_df.language_code == \"en\").show(truncate=False)"
   ]
  },
  {
   "cell_type": "code",
   "execution_count": 10,
   "id": "a0a06602",
   "metadata": {},
   "outputs": [],
   "source": [
    "#temporary view of wiki_uniq_df so we can use SQL to perform analysis against it\n",
    "wiki_uniq_df.createOrReplaceTempView('uniq_visitors_march')"
   ]
  },
  {
   "cell_type": "code",
   "execution_count": 26,
   "id": "f029a10f",
   "metadata": {},
   "outputs": [
    {
     "name": "stdout",
     "output_type": "stream",
     "text": [
      "+-------------------+-------------------+\n",
      "|domain_name        |total_human_visitor|\n",
      "+-------------------+-------------------+\n",
      "|en.m.wikipedia.org |33261399           |\n",
      "|en.wikipedia.org   |17009339           |\n",
      "|en.m.wiktionary.org|146792             |\n",
      "|en.wiktionary.org  |123043             |\n",
      "|en.wikibooks.org   |11221              |\n",
      "|en.m.wikisource.org|9908               |\n",
      "|en.m.wikibooks.org |7758               |\n",
      "|en.wikisource.org  |5790               |\n",
      "|en.m.wikiquote.org |4841               |\n",
      "|en.wikiquote.org   |3959               |\n",
      "+-------------------+-------------------+\n",
      "only showing top 10 rows\n",
      "\n"
     ]
    }
   ],
   "source": [
    "#perform some query\n",
    "query = \"\"\" SELECT domain_name, SUM(uniq_human_visitors) as total_human_visitor  \n",
    "        FROM uniq_visitors_march\n",
    "        WHERE language_code = 'en'\n",
    "        GROUP BY 1\n",
    "        ORDER BY 2 DESC\n",
    "\"\"\"\n",
    "\n",
    "wiki_new_df = spark.sql(query)\n",
    "\n",
    "wiki_new_df.show(10, truncate=False)"
   ]
  },
  {
   "cell_type": "code",
   "execution_count": 27,
   "id": "544fc0d8",
   "metadata": {},
   "outputs": [
    {
     "name": "stdout",
     "output_type": "stream",
     "text": [
      "+-------------------+------------------------+\n",
      "|domain_name        |sum(uniq_human_visitors)|\n",
      "+-------------------+------------------------+\n",
      "|en.m.wikipedia.org |33261399                |\n",
      "|en.wikipedia.org   |17009339                |\n",
      "|en.m.wiktionary.org|146792                  |\n",
      "|en.wiktionary.org  |123043                  |\n",
      "|en.wikibooks.org   |11221                   |\n",
      "|en.m.wikisource.org|9908                    |\n",
      "|en.m.wikibooks.org |7758                    |\n",
      "|en.wikisource.org  |5790                    |\n",
      "|en.m.wikiquote.org |4841                    |\n",
      "|en.wikiquote.org   |3959                    |\n",
      "+-------------------+------------------------+\n",
      "only showing top 10 rows\n",
      "\n"
     ]
    }
   ],
   "source": [
    "#do that but not sql\n",
    "wiki_uniq_df.filter('language_code == \"en\"').select(['domain_name', 'uniq_human_visitors'])\\\n",
    "                        .groupBy('domain_name').sum()\\\n",
    "                        .orderBy('sum(uniq_human_visitors)', ascending = False)\\\n",
    "                        .show(10, truncate=False)"
   ]
  },
  {
   "cell_type": "code",
   "execution_count": 28,
   "id": "1f9e2153",
   "metadata": {},
   "outputs": [],
   "source": [
    "#saving pyspark dataframe\n",
    "wiki_new_df = wiki_new_df.write.parquet('./result/csv/uniq_human_visitors/', mode=\"overwrite\")\n"
   ]
  },
  {
   "cell_type": "code",
   "execution_count": 29,
   "id": "ebb0935f",
   "metadata": {},
   "outputs": [],
   "source": [
    "wiki_new_restored = spark.read.parquet('./result/csv/uniq_human_visitors/')"
   ]
  },
  {
   "cell_type": "code",
   "execution_count": 30,
   "id": "23d29e6e",
   "metadata": {},
   "outputs": [
    {
     "name": "stdout",
     "output_type": "stream",
     "text": [
      "root\n",
      " |-- domain_name: string (nullable = true)\n",
      " |-- total_human_visitor: long (nullable = true)\n",
      "\n"
     ]
    }
   ],
   "source": [
    "wiki_new_restored.printSchema()"
   ]
  },
  {
   "cell_type": "code",
   "execution_count": 31,
   "id": "cba72ed9",
   "metadata": {},
   "outputs": [],
   "source": [
    "spark.stop()"
   ]
  },
  {
   "cell_type": "code",
   "execution_count": null,
   "id": "3f600ece",
   "metadata": {},
   "outputs": [],
   "source": []
  }
 ],
 "metadata": {
  "kernelspec": {
   "display_name": "Python 3 (ipykernel)",
   "language": "python",
   "name": "python3"
  },
  "language_info": {
   "codemirror_mode": {
    "name": "ipython",
    "version": 3
   },
   "file_extension": ".py",
   "mimetype": "text/x-python",
   "name": "python",
   "nbconvert_exporter": "python",
   "pygments_lexer": "ipython3",
   "version": "3.8.10"
  }
 },
 "nbformat": 4,
 "nbformat_minor": 5
}
